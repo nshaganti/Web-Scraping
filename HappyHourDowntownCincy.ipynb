{
 "cells": [
  {
   "cell_type": "markdown",
   "metadata": {
    "collapsed": true
   },
   "source": [
    "# Happy Hours in Downtown Cincinnati"
   ]
  },
  {
   "cell_type": "code",
   "execution_count": 5,
   "metadata": {
    "collapsed": true
   },
   "outputs": [],
   "source": [
    "## all imports\n",
    "from IPython.display import HTML\n",
    "import numpy as np\n",
    "import urllib2\n",
    "import bs4 #this is beautiful soup\n",
    "import time\n",
    "import operator\n",
    "import socket\n",
    "import cPickle\n",
    "import re # regular expressions\n",
    "\n",
    "from pandas import Series\n",
    "import pandas as pd\n",
    "from pandas import DataFrame\n",
    "\n",
    "import matplotlib\n",
    "import matplotlib.pyplot as plt\n",
    "%matplotlib inline\n",
    "\n",
    "import seaborn as sns\n",
    "sns.set_context(\"talk\")\n",
    "sns.set_style(\"white\")\n",
    "\n",
    "from secret import *"
   ]
  },
  {
   "cell_type": "markdown",
   "metadata": {},
   "source": [
    "Beautiful Soup is a Python library for pulling data out of HTML and XML files. It works with parsers to provide idiomatic ways of navigating, searching, and modifying the parse tree. It saves hours or days of work going through the HTML tag.\n",
    "\n",
    "For looking at bars offering happy hours, I used Downtown Cincinnati website. You can look at the website to get a feel of how the happy hour info is listed"
   ]
  },
  {
   "cell_type": "code",
   "execution_count": 13,
   "metadata": {
    "collapsed": false
   },
   "outputs": [],
   "source": [
    "url = 'http://www.downtowncincinnati.com/exploring-downtown/happy-hours'\n",
    "source = urllib2.urlopen(url).read()\n"
   ]
  },
  {
   "cell_type": "code",
   "execution_count": 15,
   "metadata": {
    "collapsed": false
   },
   "outputs": [
    {
     "data": {
      "text/plain": [
       "['/exploring-downtown/establishment/a-tavola-pizza',\n",
       " '/exploring-downtown/establishment/bistro-on-elm',\n",
       " '/exploring-downtown/establishment/boi-na-braza',\n",
       " '/exploring-downtown/establishment/che',\n",
       " '/exploring-downtown/establishment/neons-unplugged',\n",
       " '/exploring-downtown/establishment/holy-grail-tavern-grille',\n",
       " '/exploring-downtown/establishment/igbys',\n",
       " '/exploring-downtown/establishment/japps-since-1879',\n",
       " '/exploring-downtown/establishment/jimmy-buffetts-margaritaville-restaurant',\n",
       " '/exploring-downtown/establishment/kaze',\n",
       " '/exploring-downtown/establishment/lackman-the',\n",
       " '/exploring-downtown/establishment/madonnas-bar-grill',\n",
       " '/exploring-downtown/establishment/mccormick-schmicks-seafood-restaurant',\n",
       " '/exploring-downtown/establishment/miltons',\n",
       " '/exploring-downtown/establishment/mortons-the-steakhouse---new-look',\n",
       " '/exploring-downtown/establishment/nada',\n",
       " '/exploring-downtown/establishment/neuf',\n",
       " '/exploring-downtown/establishment/omalleys-in-the-alley',\n",
       " '/exploring-downtown/establishment/on-broadway',\n",
       " '/exploring-downtown/establishment/palomino-rotisserie-and-bar',\n",
       " '/exploring-downtown/establishment/pi-pizzeria',\n",
       " '/exploring-downtown/establishment/pies-pints',\n",
       " '/exploring-downtown/establishment/plum-st-cafe',\n",
       " '/exploring-downtown/establishment/prvlgd',\n",
       " '/exploring-downtown/establishment/quan-hapa',\n",
       " '/exploring-downtown/establishment/rock-bar-and-lounge',\n",
       " '/exploring-downtown/establishment/ruths-chris-steak-house',\n",
       " '/exploring-downtown/establishment/spare-lounge',\n",
       " '/exploring-downtown/establishment/spoon-cellar',\n",
       " '/exploring-downtown/establishment/sung-korean-bistro',\n",
       " '/exploring-downtown/establishment/taqueria-mercado',\n",
       " '/exploring-downtown/establishment/taste-of-belgium-bistro-on-vine',\n",
       " '/exploring-downtown/establishment/the-bar-at-palm-court',\n",
       " '/exploring-downtown/establishment/the-cricket-lounge',\n",
       " '/exploring-downtown/establishment/the-drinkery',\n",
       " '/exploring-downtown/establishment/the-phelps-bar',\n",
       " '/exploring-downtown/establishment/the-presidents-room',\n",
       " '/exploring-downtown/establishment/the-righteous-room',\n",
       " '/exploring-downtown/establishment/vestry',\n",
       " '/exploring-downtown/establishment/via-vite',\n",
       " '/exploring-downtown/establishment/we-olive-cincinnati',\n",
       " '/exploring-downtown/establishment/yard-house',\n",
       " '/exploring-downtown/establishment/zbgb-gourmet-burgers-bar']"
      ]
     },
     "execution_count": 15,
     "metadata": {},
     "output_type": "execute_result"
    }
   ],
   "source": [
    "# get links of the bars offering happy hour to extract information\n",
    "\n",
    "## get bs4 object\n",
    "soup = bs4.BeautifulSoup(source)\n",
    "\n",
    "## compare the two print statements\n",
    "#print soup\n",
    "#print soup.prettify()\n",
    "\n",
    "## get attribute `href`\n",
    "link_list = [l.get('href') for l in soup.findAll('a') ]\n",
    "link_list = [l for l in link_list if '/exploring-downtown/establishment/' in l]\n",
    "link_list"
   ]
  },
  {
   "cell_type": "code",
   "execution_count": 9,
   "metadata": {
    "collapsed": false
   },
   "outputs": [],
   "source": [
    "# Get the bar details\n",
    "est_name = []\n",
    "est_desc = []\n",
    "est_address =[]\n",
    "est_hours = []\n",
    "est_happyhr = []\n",
    "est_link = []\n",
    "est_phnum =[]\n",
    "\n",
    "\n",
    "for link in link_list:\n",
    "    url = 'http://www.downtowncincinnati.com' + link\n",
    "    source = urllib2.urlopen(url).read()\n",
    "    soup = bs4.BeautifulSoup(source)\n",
    "    est_details = soup.find(id=\"establishment_details\")\n",
    "    est_name.append([str(t.get_text().encode('utf-8')) for t in est_details.findAll('h3')][0])\n",
    "    est_info = [str(t.get_text().encode('utf-8')) for t in est_details.findAll('p')]\n",
    "    est_desc.append(est_info[0])\n",
    "    est_address.append(est_info[1])\n",
    "    est_hours.append(est_info[2])\n",
    "    if len(est_info) > 3:\n",
    "        est_happyhr.append(est_info[3])\n",
    "    else:\n",
    "        est_happyhr.append('NA')\n",
    "    est_link.append([l.get('href') for l in est_details.findAll('a')][0])\n",
    "    est_phnum.append([str(t.get_text().encode('utf-8')) for t in est_details.findAll('h4')][0])\n",
    "      "
   ]
  },
  {
   "cell_type": "code",
   "execution_count": 11,
   "metadata": {
    "collapsed": false
   },
   "outputs": [
    {
     "data": {
      "text/html": [
       "<div>\n",
       "<table border=\"1\" class=\"dataframe\">\n",
       "  <thead>\n",
       "    <tr style=\"text-align: right;\">\n",
       "      <th></th>\n",
       "      <th>Name</th>\n",
       "      <th>Short Description</th>\n",
       "      <th>Hours</th>\n",
       "      <th>Happy Hour</th>\n",
       "      <th>Address</th>\n",
       "      <th>Phone Number</th>\n",
       "      <th>Website</th>\n",
       "    </tr>\n",
       "  </thead>\n",
       "  <tbody>\n",
       "    <tr>\n",
       "      <th>0</th>\n",
       "      <td>A Tavola Pizza</td>\n",
       "      <td>Neapolitan pizza and other Italian cuisine mad...</td>\n",
       "      <td>Mon-Thu, 11am-11am; Fri &amp; Sat, 11am-2am; Sun, ...</td>\n",
       "      <td>Tue-Fri 4-6 p.m.</td>\n",
       "      <td>1220  Vine St.</td>\n",
       "      <td>(513) 246-0192</td>\n",
       "      <td>http://www.atavolapizza.com/</td>\n",
       "    </tr>\n",
       "    <tr>\n",
       "      <th>1</th>\n",
       "      <td>Bistro on Elm</td>\n",
       "      <td>Restaurant offers breakfast, lunch or dinner. ...</td>\n",
       "      <td>Mon-Fri, 11am-10pm; Sat- Sun,12pm-10pm, Bar 12...</td>\n",
       "      <td>Mon-Fri, 4-7, half price apps, $1 off draft beers</td>\n",
       "      <td>150 W. Fifth St.</td>\n",
       "      <td>(513) 352-2189</td>\n",
       "      <td>/exploring-downtown/establishment/bakes-place</td>\n",
       "    </tr>\n",
       "    <tr>\n",
       "      <th>2</th>\n",
       "      <td>Boi Na Braza</td>\n",
       "      <td>Brazilian steak house (a churrascaria). 15 cut...</td>\n",
       "      <td>Mon- Sat, 5pm-9:45pm; Sun, 5pm-8:45pm</td>\n",
       "      <td>Mon-Fri, 4:30pm-7pm, half price well drinks an...</td>\n",
       "      <td>441  Vine St.</td>\n",
       "      <td>(513) 421-7111</td>\n",
       "      <td>http://www.boinabraza.com/</td>\n",
       "    </tr>\n",
       "    <tr>\n",
       "      <th>3</th>\n",
       "      <td>Che</td>\n",
       "      <td>Serves a combination of Italian and Latin Amer...</td>\n",
       "      <td>Sun - Thurs, 11am-1am; Fri &amp; Sat, 11am-2am</td>\n",
       "      <td>NA</td>\n",
       "      <td>1342  Walnut St.</td>\n",
       "      <td>(513) 978-1706</td>\n",
       "      <td>http://www.checincinnati.com/menu.html</td>\n",
       "    </tr>\n",
       "    <tr>\n",
       "      <th>4</th>\n",
       "      <td>Famous Neons Unplugged</td>\n",
       "      <td>Known for its beautiful courtyard bar, complet...</td>\n",
       "      <td>Mon-Fri, 4pm-2am; Sat, 3pm-2am; Sun, 12pm-12am</td>\n",
       "      <td>M-F 4-8</td>\n",
       "      <td>208 E Twelfth St.</td>\n",
       "      <td>(513) 479-1030</td>\n",
       "      <td>http://www.neons-unplugged.com/</td>\n",
       "    </tr>\n",
       "  </tbody>\n",
       "</table>\n",
       "</div>"
      ],
      "text/plain": [
       "                     Name                                  Short Description  \\\n",
       "0          A Tavola Pizza  Neapolitan pizza and other Italian cuisine mad...   \n",
       "1           Bistro on Elm  Restaurant offers breakfast, lunch or dinner. ...   \n",
       "2            Boi Na Braza  Brazilian steak house (a churrascaria). 15 cut...   \n",
       "3                     Che  Serves a combination of Italian and Latin Amer...   \n",
       "4  Famous Neons Unplugged  Known for its beautiful courtyard bar, complet...   \n",
       "\n",
       "                                               Hours  \\\n",
       "0  Mon-Thu, 11am-11am; Fri & Sat, 11am-2am; Sun, ...   \n",
       "1  Mon-Fri, 11am-10pm; Sat- Sun,12pm-10pm, Bar 12...   \n",
       "2              Mon- Sat, 5pm-9:45pm; Sun, 5pm-8:45pm   \n",
       "3        Sun - Thurs, 11am-1am; Fri & Sat, 11am-2am    \n",
       "4     Mon-Fri, 4pm-2am; Sat, 3pm-2am; Sun, 12pm-12am   \n",
       "\n",
       "                                          Happy Hour            Address  \\\n",
       "0                                   Tue-Fri 4-6 p.m.     1220  Vine St.   \n",
       "1  Mon-Fri, 4-7, half price apps, $1 off draft beers   150 W. Fifth St.   \n",
       "2  Mon-Fri, 4:30pm-7pm, half price well drinks an...      441  Vine St.   \n",
       "3                                                 NA   1342  Walnut St.   \n",
       "4                                            M-F 4-8  208 E Twelfth St.   \n",
       "\n",
       "     Phone Number                                        Website  \n",
       "0  (513) 246-0192                   http://www.atavolapizza.com/  \n",
       "1  (513) 352-2189  /exploring-downtown/establishment/bakes-place  \n",
       "2  (513) 421-7111                     http://www.boinabraza.com/  \n",
       "3  (513) 978-1706         http://www.checincinnati.com/menu.html  \n",
       "4  (513) 479-1030                http://www.neons-unplugged.com/  "
      ]
     },
     "execution_count": 11,
     "metadata": {},
     "output_type": "execute_result"
    }
   ],
   "source": [
    "# Create a pandas dataframe\n",
    "\n",
    "DTCincyRest = pd.DataFrame({\n",
    "        \"Name\": est_name, \n",
    "        \"Short Description\": est_desc, \n",
    "        \"Address\": est_address, \n",
    "        \"Hours\":est_hours,\n",
    "        \"Happy Hour\":est_happyhr,\n",
    "        \"Website\":est_link,\n",
    "        \"Phone Number\":est_phnum\n",
    "    })\n",
    "\n",
    "DTCincyRest = DTCincyRest.iloc[:,[3,5,2,1,0,4,6]]\n",
    "DTCincyRest.head()"
   ]
  },
  {
   "cell_type": "code",
   "execution_count": null,
   "metadata": {
    "collapsed": false
   },
   "outputs": [],
   "source": [
    "# Export it to a CSV\n",
    "DTCincyRest.to_csv('HappyHour.csv',index = False)"
   ]
  }
 ],
 "metadata": {
  "kernelspec": {
   "display_name": "Python 2",
   "language": "python",
   "name": "python2"
  },
  "language_info": {
   "codemirror_mode": {
    "name": "ipython",
    "version": 2
   },
   "file_extension": ".py",
   "mimetype": "text/x-python",
   "name": "python",
   "nbconvert_exporter": "python",
   "pygments_lexer": "ipython2",
   "version": "2.7.12"
  }
 },
 "nbformat": 4,
 "nbformat_minor": 0
}
